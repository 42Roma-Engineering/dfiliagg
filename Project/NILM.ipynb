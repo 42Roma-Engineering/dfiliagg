{
 "cells": [
  {
   "cell_type": "code",
   "execution_count": 234,
   "id": "4d4f1aec-478a-40f0-b039-37d54fba1eaa",
   "metadata": {},
   "outputs": [],
   "source": [
    "# basic functionalities\n",
    "import os\n",
    "import sys\n",
    "import datetime\n",
    "import itertools\n",
    "import math\n",
    "\n",
    "# data transforamtion and manipulation\n",
    "import pandas as pd\n",
    "import numpy as np\n",
    "from math import sqrt\n",
    "import ydata_profiling\n",
    "\n",
    "# prevent crazy long numpy prints\n",
    "np.set_printoptions(precision=4, suppress=True)\n",
    "\n",
    "# prevent crazy long pandas prints\n",
    "pd.options.display.max_columns = 1000\n",
    "pd.options.display.max_rows = 1000\n",
    "pd.set_option('display.float_format', lambda x: '%.5f' % x)\n",
    "pd.set_option('display.expand_frame_repr', False)\n",
    "pd.set_option('display.max_columns', 1000)\n",
    "pd.set_option('display.width', 1000)\n",
    "\n",
    "\n",
    "# remove warnings\n",
    "import warnings\n",
    "warnings.filterwarnings('ignore')\n",
    "\n",
    "\n",
    "# plotting and plot styling\n",
    "import matplotlib.pyplot as plt\n",
    "import seaborn as sns\n",
    "import plotly.express as px\n",
    "import plotly.graph_objects as go\n",
    "\n",
    "\n",
    "# set params\n",
    "plt.rcParams['figure.figsize'] = (16,10)\n",
    "plt.rcParams['axes.grid'] = True\n",
    "plt.rcParams['axes.labelsize'] = 14\n",
    "plt.rcParams['xtick.labelsize'] = 12\n",
    "plt.rcParams['ytick.labelsize'] = 12\n",
    "plt.rcParams['text.color'] = 'k'\n",
    "plt.style.use('fivethirtyeight')\n",
    "\n",
    "# statistical modeling libraries\n",
    "import statsmodels.api as sm\n",
    "import statsmodels.formula.api as smf\n",
    "import statsmodels.tsa.api as smt\n",
    "import statsmodels.api as sm\n",
    "import scipy.stats as scs\n",
    "from statsmodels.tsa.seasonal import seasonal_decompose\n",
    "from statsmodels.tsa.stattools import adfuller\n",
    "from statsmodels.graphics.tsaplots import plot_acf, plot_pacf\n",
    "from statsmodels.tsa.ar_model import AR\n",
    "from statsmodels.tsa.arima_model import ARMA, ARIMA\n",
    "from statsmodels.tsa.statespace.sarimax import SARIMAX\n",
    "\n",
    "\n",
    "# ML basic library\n",
    "from sklearn.utils import resample\n",
    "from sklearn.preprocessing import StandardScaler\n",
    "from sklearn.decomposition import PCA\n",
    "from sklearn.model_selection import train_test_split\n",
    "from sklearn.neighbors import KNeighborsClassifier\n",
    "from sklearn.ensemble import RandomForestClassifier\n",
    "from sklearn.linear_model import LogisticRegression\n",
    "from sklearn.linear_model import RidgeClassifier\n",
    "from sklearn.tree import DecisionTreeClassifier\n",
    "from sklearn.model_selection import cross_val_score, KFold, GridSearchCV\n",
    "from sklearn.metrics import classification_report\n",
    "from sklearn.metrics import confusion_matrix\n",
    "from sklearn.metrics import mean_squared_error, r2_score, mean_absolute_error, median_absolute_error, mean_squared_log_error\n",
    "\n",
    "#Img:\n",
    "from IPython.display import Image"
   ]
  },
  {
   "cell_type": "code",
   "execution_count": 235,
   "id": "23256651",
   "metadata": {},
   "outputs": [],
   "source": [
    "df = pd.read_csv(\"./anonimized/25day_dataset.csv\")\n",
    "\n",
    "df['ActivePower'] /= 1000\n",
    "df['ReactivePower'] /= 1000\n",
    "df['wahing_machine'] /= 1000\n",
    "df['dishwasher'] /= 1000\n",
    "df['oven'] /= 1000"
   ]
  },
  {
   "cell_type": "code",
   "execution_count": 236,
   "id": "d984981c",
   "metadata": {},
   "outputs": [],
   "source": [
    "\n",
    "df['DateTime'] = pd.to_datetime(df['DateTime'])\n",
    "\n",
    "df = df.sort_values(by=['DateTime'], axis=0, ascending=True)\n"
   ]
  },
  {
   "cell_type": "code",
   "execution_count": 237,
   "id": "03a73d8d",
   "metadata": {},
   "outputs": [],
   "source": [
    "df.drop_duplicates(subset='DateTime', keep='last', inplace=True)\n",
    "df = df.set_index('DateTime')"
   ]
  },
  {
   "cell_type": "code",
   "execution_count": 238,
   "id": "8fd78052",
   "metadata": {},
   "outputs": [],
   "source": [
    "date_range = pd.date_range(start=min(df.index), end=max(df.index), freq='S')"
   ]
  },
  {
   "cell_type": "code",
   "execution_count": 239,
   "id": "49d50506",
   "metadata": {},
   "outputs": [],
   "source": [
    "df = df.reindex(date_range)\n",
    "\n",
    "for col in df.columns:\n",
    "    df[col].interpolate(method='linear', inplace=True)"
   ]
  },
  {
   "cell_type": "code",
   "execution_count": 240,
   "id": "292ea244",
   "metadata": {},
   "outputs": [],
   "source": [
    "df = df.resample(\"1T\").mean()"
   ]
  },
  {
   "cell_type": "code",
   "execution_count": 241,
   "id": "aa9f5719",
   "metadata": {},
   "outputs": [],
   "source": [
    "df['dayofweek'] = df.index.dayofweek\n",
    "df['dayofyear'] = df.index.dayofyear\n",
    "df['year'] = df.index.year\n",
    "df['month'] = df.index.month\n",
    "df['quarter'] = df.index.quarter\n",
    "df['hour'] = df.index.hour\n",
    "df['weekday'] = df.index.weekday\n",
    "df['weekofyear'] = df.index.dayofyear//7\n",
    "df['dayofmonth'] = df.index.day # Day of Month\n",
    "df['date'] = df.index.date \n",
    "\n",
    "# let's add the season number\n",
    "df['season'] = df['month'].apply(lambda month_number: (month_number%12 + 3)//3)"
   ]
  },
  {
   "cell_type": "code",
   "execution_count": 242,
   "id": "9cfa37c9",
   "metadata": {},
   "outputs": [],
   "source": [
    "y_wm = (df['wahing_machine']>0).astype(int)\n",
    "y_dw = (df['dishwasher']>0).astype(int)\n",
    "y_ow = (df['oven']>0).astype(int)\n",
    "\n",
    "drop_cols = ['wahing_machine', 'dishwasher', 'oven', 'date']\n",
    "X =  df.drop(drop_cols, axis=1)\n",
    "Y = pd.concat([y_wm, y_dw, y_ow], axis=1)\n",
    "\n",
    "\n",
    "Y['label'] = Y[['wahing_machine','dishwasher','oven']].apply(lambda row: int(''.join(map(str, row)), 2), axis=1)\n",
    "Y['label_str'] = Y['label'].map({0:'AO',\n",
    "                                1:'OW',\n",
    "                                2:'DW',\n",
    "                                3:'DW_OW',\n",
    "                                4:'WM',\n",
    "                                5:'WM_OW',\n",
    "                                6:'WM_DW',\n",
    "                                7:'WM_DW_OW',\n",
    "                                })\n",
    "\n",
    "y = Y['label_str']"
   ]
  },
  {
   "cell_type": "code",
   "execution_count": 243,
   "id": "1146bce2",
   "metadata": {},
   "outputs": [],
   "source": [
    "target_names = ['AO','OW','DW','DW_OW','WM','WM_OW','WM_DW','WM_DW_OW']"
   ]
  },
  {
   "cell_type": "code",
   "execution_count": 244,
   "id": "be0f73d8",
   "metadata": {},
   "outputs": [],
   "source": [
    "def sencos(df, col):\n",
    "\tcos_name = \"cos_\" + col\n",
    "\tsen_name = \"sen_\" + col\n",
    "\tdf[cos_name] = np.cos(2 * np.pi * df[col] / df[col].max())\n",
    "\tdf[sen_name] = np.sin(2 * np.pi * df[col] / df[col].max())\n",
    "\tdf.drop(col, axis=1, inplace=True)\n",
    "\treturn df\n",
    "\n",
    "df.drop(['month', 'quarter', 'year', 'dayofyear', 'weekofyear', 'season', 'dayofweek', 'dayofmonth'], inplace=True, axis=1)"
   ]
  },
  {
   "cell_type": "code",
   "execution_count": 245,
   "id": "e3a5c33e",
   "metadata": {},
   "outputs": [],
   "source": [
    "drop_cols = ['wahing_machine', 'dishwasher', 'oven']"
   ]
  },
  {
   "cell_type": "code",
   "execution_count": 246,
   "id": "c71f1373",
   "metadata": {},
   "outputs": [],
   "source": [
    "df = sencos(df, 'hour')\n",
    "df = sencos(df, 'weekday')"
   ]
  },
  {
   "cell_type": "code",
   "execution_count": 247,
   "id": "e711194a",
   "metadata": {},
   "outputs": [],
   "source": [
    "df.drop(['date'], axis=1, inplace=True)\n",
    "\n",
    "apparent = np.sqrt(df['ActivePower']**2 + df['ReactivePower']**2)\n",
    "#df['ApparentPower'] = apparent\n",
    "df['PowerFactor'] = df['ActivePower'] / apparent\n",
    "#df['Impedance'] = apparent / df['ActivePower']\n",
    "#df['Resistance'] = df['ActivePower'] / apparent\n",
    "#df['Reactance'] = np.sqrt(df['Impedance']**2 - df['Resistance']**2)\n",
    "#df['Admittance'] = 1 / df['Impedance']\n",
    "#df['Conductance'] = 1 / df['Resistance']\n",
    "#df['Susceptance'] = 1 / df['Reactance']\n",
    "#df['RealPower'] = df['ActivePower'] * df['PowerFactor']\n",
    "\n",
    "df = df.dropna()"
   ]
  },
  {
   "cell_type": "code",
   "execution_count": 248,
   "id": "de0481f4",
   "metadata": {},
   "outputs": [],
   "source": [
    "from scipy.signal import find_peaks, peak_widths, peak_prominences, cwt\n",
    "from scipy.signal import ricker\n",
    "from scipy import signal\n",
    "\n",
    "widths = np.arange(1, 20)\n",
    "cwtmatr = cwt(df['ActivePower'], signal.ricker, widths)\n",
    "cw = pd.DataFrame(cwtmatr.T, columns=widths)\n",
    "cw.index = df.index\n",
    "cw.columns = ['cwt_' + str(col) for col in cw.columns]\n",
    "\n",
    "#df = pd.concat([df, cw], axis=1)"
   ]
  },
  {
   "cell_type": "code",
   "execution_count": 249,
   "id": "2f7b7a15",
   "metadata": {},
   "outputs": [
    {
     "data": {
      "text/plain": [
       "Index(['ActivePower', 'ReactivePower', 'Voltage', 'Current', 'harmonic1_Real', 'harmonic1_Imaginary', 'harmonic3_Real', 'harmonic3_Imaginary', 'harmonic5_Real', 'harmonic5_Imaginary', 'harmonic7_Real', 'harmonic7_Imaginary', 'wahing_machine', 'dishwasher', 'oven', 'cos_hour', 'sen_hour', 'cos_weekday', 'sen_weekday', 'PowerFactor'], dtype='object')"
      ]
     },
     "execution_count": 249,
     "metadata": {},
     "output_type": "execute_result"
    }
   ],
   "source": [
    "df.columns"
   ]
  },
  {
   "cell_type": "code",
   "execution_count": 250,
   "id": "8e2f94fa",
   "metadata": {},
   "outputs": [
    {
     "data": {
      "text/plain": [
       "Index(['ActivePower', 'ReactivePower', 'Voltage', 'Current', 'harmonic1_Real', 'harmonic1_Imaginary', 'harmonic3_Real', 'harmonic3_Imaginary', 'harmonic5_Real', 'harmonic5_Imaginary', 'harmonic7_Real', 'harmonic7_Imaginary', 'wahing_machine', 'dishwasher', 'oven', 'cos_hour', 'sen_hour', 'cos_weekday', 'sen_weekday', 'PowerFactor'], dtype='object')"
      ]
     },
     "execution_count": 250,
     "metadata": {},
     "output_type": "execute_result"
    }
   ],
   "source": [
    "df = df.dropna()\n",
    "#df = df.drop(['Voltage'], axis=1)\n",
    "df.columns"
   ]
  },
  {
   "cell_type": "code",
   "execution_count": 251,
   "id": "01455ec3",
   "metadata": {},
   "outputs": [],
   "source": [
    "for i in range(1, 9):\n",
    "\tdf['ActivePower_shifted_' + str(i)] = df['ActivePower'].shift(i)\n",
    "\n",
    "df['ActivePower'] = df['ActivePower'] - df['ActivePower'].rolling(window=10).mean()\n",
    "\n",
    "#for i in range(1, 21):\n",
    "\t#df['cwt_9_shifted_' + str(i)] = cw['cwt_9'].shift(i)\n",
    "\n",
    "#df['cwt_1'] = cw['cwt_1']\n",
    "#df['cwt_2'] = cw['cwt_2']\n",
    "#df['cwt_3'] = cw['cwt_3']\n",
    "#df['cwt_4'] = cw['cwt_4']\n",
    "#df['cwt_5'] = cw['cwt_5']\n",
    "#df['cwt_6'] = cw['cwt_6']\n",
    "#df['cwt_7'] = cw['cwt_7']\n",
    "#df['cwt_8'] = cw['cwt_8']\n",
    "#df['cwt_9'] = cw['cwt_9']\n",
    "\n",
    "\n",
    "#droppo nan\n",
    "df = df.dropna()"
   ]
  },
  {
   "cell_type": "code",
   "execution_count": 252,
   "id": "d5ae5b8d",
   "metadata": {},
   "outputs": [],
   "source": [
    "signale = df['ActivePower']\n",
    "fourier = np.fft.fft(df['ActivePower'])\n",
    "\n",
    "\n",
    "#estraggo la parte reale e immaginaria e le aggiungo al dataset\n",
    "\n",
    "df['fourier_real'] = fourier.real\n",
    "df['fourier_imag'] = fourier.imag"
   ]
  },
  {
   "cell_type": "code",
   "execution_count": 253,
   "id": "db2f5c23",
   "metadata": {},
   "outputs": [
    {
     "data": {
      "text/plain": [
       "Index(['ActivePower', 'ReactivePower', 'Voltage', 'Current', 'harmonic1_Real', 'harmonic1_Imaginary', 'harmonic3_Real', 'harmonic3_Imaginary', 'harmonic5_Real', 'harmonic5_Imaginary', 'harmonic7_Real', 'harmonic7_Imaginary', 'wahing_machine', 'dishwasher', 'oven', 'cos_hour', 'sen_hour', 'cos_weekday', 'sen_weekday', 'PowerFactor', 'ActivePower_shifted_1', 'ActivePower_shifted_2', 'ActivePower_shifted_3', 'ActivePower_shifted_4', 'ActivePower_shifted_5', 'ActivePower_shifted_6', 'ActivePower_shifted_7', 'ActivePower_shifted_8', 'fourier_real', 'fourier_imag'], dtype='object')"
      ]
     },
     "execution_count": 253,
     "metadata": {},
     "output_type": "execute_result"
    }
   ],
   "source": [
    "df.columns"
   ]
  },
  {
   "cell_type": "code",
   "execution_count": 254,
   "id": "40381440",
   "metadata": {},
   "outputs": [],
   "source": [
    "#seleziono whahing machine == 0 e oven == 0 e dishwasher == 0 e creo un nuovo dataset\n",
    "\n",
    "dfoff = df[(df['wahing_machine'] == 0) & (df['oven'] == 0) & (df['dishwasher'] == 0)]\t\n",
    "\n",
    "#seleziono whahing machine == 1 e oven == 0 e dishwasher == 0 e creo un nuovo dataset\n",
    "\n",
    "dfwm = df[(df['wahing_machine'] != 0) & (df['oven'] == 0) & (df['dishwasher'] == 0)]\n",
    "\n",
    "#seleziono whahing machine == 0 e oven == 1 e dishwasher == 0 e creo un nuovo dataset\n",
    "\n",
    "dfov = df[(df['wahing_machine'] == 0) & (df['oven'] != 0) & (df['dishwasher'] == 0)]\n",
    "\n",
    "#seleziono whahing machine == 0 e oven == 0 e dishwasher == 1 e creo un nuovo dataset\n",
    "\n",
    "dfdw = df[(df['wahing_machine'] == 0) & (df['oven'] == 0) & (df['dishwasher'] != 0)]"
   ]
  },
  {
   "cell_type": "code",
   "execution_count": 255,
   "id": "3c69ffe1",
   "metadata": {},
   "outputs": [],
   "source": [
    "frequenze = np.fft.fftfreq(len(df['ActivePower']))\n",
    "len(frequenze)\n",
    "\n",
    "df['frequenze'] = frequenze"
   ]
  },
  {
   "cell_type": "code",
   "execution_count": 256,
   "id": "9cbadb1c",
   "metadata": {},
   "outputs": [],
   "source": [
    "y_wm = (df['wahing_machine']>0).astype(int)\n",
    "y_dw = (df['dishwasher']>0).astype(int)\n",
    "y_ow = (df['oven']>0).astype(int)\n",
    "\n",
    "Y = pd.concat([y_wm, y_dw, y_ow], axis=1)\n",
    "\n",
    "\n",
    "Y['label'] = Y[['wahing_machine','dishwasher','oven']].apply(lambda row: int(''.join(map(str, row)), 2), axis=1)\n",
    "Y['label_str'] = Y['label'].map({0:'AO',\n",
    "                                1:'OW',\n",
    "                                2:'DW',\n",
    "                                3:'DW_OW',\n",
    "                                4:'WM',\n",
    "                                5:'WM_OW',\n",
    "                                6:'WM_DW',\n",
    "                                7:'WM_DW_OW',\n",
    "                                })\n",
    "\n",
    "y = Y['label_str']"
   ]
  },
  {
   "cell_type": "code",
   "execution_count": 257,
   "id": "d9773fc1",
   "metadata": {},
   "outputs": [
    {
     "name": "stdout",
     "output_type": "stream",
     "text": [
      "              precision    recall  f1-score   support\n",
      "\n",
      "          AO       0.98      0.99      0.99      5535\n",
      "          DW       0.88      0.63      0.74        73\n",
      "          OW       0.40      0.34      0.37        53\n",
      "          WM       0.93      0.80      0.86       337\n",
      "\n",
      "    accuracy                           0.97      5998\n",
      "   macro avg       0.80      0.69      0.74      5998\n",
      "weighted avg       0.97      0.97      0.97      5998\n",
      "\n",
      "              precision    recall  f1-score   support\n",
      "\n",
      "          AO       0.98      0.98      0.98      5465\n",
      "          DW       0.58      0.56      0.57        71\n",
      "          OW       0.64      0.67      0.65        55\n",
      "          WM       0.82      0.87      0.84       407\n",
      "\n",
      "    accuracy                           0.96      5998\n",
      "   macro avg       0.75      0.77      0.76      5998\n",
      "weighted avg       0.96      0.96      0.96      5998\n",
      "\n",
      "              precision    recall  f1-score   support\n",
      "\n",
      "          AO       0.99      0.90      0.94      5306\n",
      "          DW       0.66      0.82      0.73       133\n",
      "          OW       0.84      0.73      0.78        52\n",
      "          WM       0.46      0.85      0.60       507\n",
      "\n",
      "    accuracy                           0.90      5998\n",
      "   macro avg       0.74      0.83      0.76      5998\n",
      "weighted avg       0.93      0.90      0.91      5998\n",
      "\n",
      "              precision    recall  f1-score   support\n",
      "\n",
      "          AO       0.99      0.99      0.99      5545\n",
      "          DW       0.85      0.71      0.77        65\n",
      "          OW       0.45      1.00      0.62        22\n",
      "          WM       0.90      0.88      0.89       365\n",
      "       WM_DW       0.00      0.00      0.00         1\n",
      "\n",
      "    accuracy                           0.98      5998\n",
      "   macro avg       0.64      0.71      0.65      5998\n",
      "weighted avg       0.98      0.98      0.98      5998\n",
      "\n",
      "              precision    recall  f1-score   support\n",
      "\n",
      "          AO       0.98      0.99      0.98      5396\n",
      "          DW       0.87      0.75      0.80       131\n",
      "          OW       0.52      0.52      0.52        25\n",
      "          WM       0.84      0.78      0.81       446\n",
      "\n",
      "    accuracy                           0.96      5998\n",
      "   macro avg       0.80      0.76      0.78      5998\n",
      "weighted avg       0.96      0.96      0.96      5998\n",
      "\n"
     ]
    }
   ],
   "source": [
    "from sklearn.model_selection import TimeSeriesSplit\n",
    "from sklearn.preprocessing import StandardScaler\n",
    "from sklearn.svm import SVC\n",
    "\n",
    "from sklearn.feature_selection import SelectKBest\n",
    "from sklearn.feature_selection import f_classif, mutual_info_classif\n",
    "from sklearn.multiclass import OneVsRestClassifier\n",
    "\n",
    "X =  df.drop(drop_cols, axis=1)\n",
    "\n",
    "clf = OneVsRestClassifier(SVC(kernel='rbf', probability=True, random_state=42, class_weight='balanced', C=1))\n",
    "scaler = StandardScaler()\n",
    "X = scaler.fit_transform(X)\n",
    "\n",
    "#X = SelectKBest(f_classif, k=25).fit_transform(X, y)\n",
    "\n",
    "tscv = TimeSeriesSplit(n_splits=5)\n",
    "for train_index, test_index in tscv.split(X):\n",
    "\tX_train, X_test = X[train_index], X[test_index]\n",
    "\ty_train, y_test = y.iloc[train_index], y.iloc[test_index]\n",
    "\tclf.fit(X_train, y_train)\n",
    "\tprint(classification_report(y_test, clf.predict(X_test)))\n"
   ]
  },
  {
   "cell_type": "code",
   "execution_count": 258,
   "id": "38dc680f",
   "metadata": {},
   "outputs": [
    {
     "name": "stdout",
     "output_type": "stream",
     "text": [
      "              precision    recall  f1-score   support\n",
      "\n",
      "          AO       0.98      0.99      0.99     29378\n",
      "          DW       0.82      0.79      0.80       488\n",
      "          OW       0.87      0.61      0.72       297\n",
      "          WM       0.85      0.87      0.86      2228\n",
      "       WM_DW       0.00      0.00      0.00         1\n",
      "\n",
      "    accuracy                           0.97     32392\n",
      "   macro avg       0.70      0.65      0.67     32392\n",
      "weighted avg       0.97      0.97      0.97     32392\n",
      "\n"
     ]
    }
   ],
   "source": [
    "X_train, X_test, y_train, y_test = train_test_split(X, y, test_size=0.9, random_state=0)\n",
    "\n",
    "\n",
    "clf.fit(X_train, y_train)\n",
    "y_pred = clf.predict(X_test)\n",
    "\n",
    "print(classification_report(y_test, y_pred))"
   ]
  }
 ],
 "metadata": {
  "kernelspec": {
   "display_name": "Python 3 (ipykernel)",
   "language": "python",
   "name": "python3"
  },
  "language_info": {
   "codemirror_mode": {
    "name": "ipython",
    "version": 3
   },
   "file_extension": ".py",
   "mimetype": "text/x-python",
   "name": "python",
   "nbconvert_exporter": "python",
   "pygments_lexer": "ipython3",
   "version": "3.11.5"
  }
 },
 "nbformat": 4,
 "nbformat_minor": 5
}
